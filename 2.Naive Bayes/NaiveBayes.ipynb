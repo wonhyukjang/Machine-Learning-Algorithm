{
 "cells": [
  {
   "cell_type": "markdown",
   "metadata": {},
   "source": [
    "# Import Decision Tree class"
   ]
  },
  {
   "cell_type": "code",
   "execution_count": 1,
   "metadata": {},
   "outputs": [],
   "source": [
    "import numpy as np\n",
    "import pandas as pd\n",
    "from NaiveBayes import *"
   ]
  },
  {
   "cell_type": "markdown",
   "metadata": {},
   "source": [
    "# Get Data"
   ]
  },
  {
   "cell_type": "code",
   "execution_count": 2,
   "metadata": {},
   "outputs": [
    {
     "name": "stdout",
     "output_type": "stream",
     "text": "Reading in and transforming data...\n"
    }
   ],
   "source": [
    "X, Y = get_data()"
   ]
  },
  {
   "cell_type": "code",
   "execution_count": 3,
   "metadata": {},
   "outputs": [
    {
     "name": "stdout",
     "output_type": "stream",
     "text": "Training time: 0:00:00.299952\nTrain accuracy: 0.7992857142857143\nTime to compute train accuracy: 0:00:05.016505 Train size: 21000\nTest accuracy: 0.8003809523809524\nTime to compute test accuracy: 0:00:05.080736 Test size: 21000\n"
    }
   ],
   "source": [
    "Ntrain = len(Y) // 2\n",
    "Xtrain, Ytrain = X[:Ntrain], Y[:Ntrain]\n",
    "Xtest, Ytest = X[Ntrain:], Y[Ntrain:]\n",
    "\n",
    "model = NaiveBayes()\n",
    "t0 = datetime.now()\n",
    "model.fit(Xtrain, Ytrain)\n",
    "print(\"Training time:\", (datetime.now() - t0))\n",
    "\n",
    "t0 = datetime.now()\n",
    "print(\"Train accuracy:\", model.score(Xtrain, Ytrain))\n",
    "print(\"Time to compute train accuracy:\", (datetime.now() - t0), \"Train size:\", len(Ytrain))\n",
    "\n",
    "t0 = datetime.now()\n",
    "print(\"Test accuracy:\", model.score(Xtest, Ytest))\n",
    "print(\"Time to compute test accuracy:\", (datetime.now() - t0), \"Test size:\", len(Ytest))"
   ]
  },
  {
   "cell_type": "code",
   "execution_count": null,
   "metadata": {},
   "outputs": [],
   "source": []
  }
 ],
 "metadata": {
  "kernelspec": {
   "display_name": "twitter",
   "language": "python",
   "name": "twitter"
  },
  "language_info": {
   "codemirror_mode": {
    "name": "ipython",
    "version": 3
   },
   "file_extension": ".py",
   "mimetype": "text/x-python",
   "name": "python",
   "nbconvert_exporter": "python",
   "pygments_lexer": "ipython3",
   "version": "3.8.3-final"
  }
 },
 "nbformat": 4,
 "nbformat_minor": 2
}