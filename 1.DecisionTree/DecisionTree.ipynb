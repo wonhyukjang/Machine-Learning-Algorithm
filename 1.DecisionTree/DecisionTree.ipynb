{
 "cells": [
  {
   "cell_type": "markdown",
   "metadata": {},
   "source": [
    "# Import Decision Tree class"
   ]
  },
  {
   "cell_type": "code",
   "execution_count": 1,
   "metadata": {},
   "outputs": [],
   "source": [
    "import numpy as np\n",
    "import pandas as pd\n",
    "from DecisionTree import *"
   ]
  },
  {
   "cell_type": "markdown",
   "metadata": {},
   "source": [
    "# Get Data"
   ]
  },
  {
   "cell_type": "code",
   "execution_count": 2,
   "metadata": {
    "scrolled": true
   },
   "outputs": [
    {
     "name": "stdout",
     "output_type": "stream",
     "text": [
      "Reading in and transforming data...\n"
     ]
    }
   ],
   "source": [
    "X, Y = get_data()"
   ]
  },
  {
   "cell_type": "code",
   "execution_count": 3,
   "metadata": {},
   "outputs": [
    {
     "name": "stdout",
     "output_type": "stream",
     "text": [
      "Training time: 0:00:22.264395\n",
      "Train accuracy: 1.0\n",
      "Time to compute train accuracy: 0:00:00.011883\n",
      "Test accuracy: 0.9938747731397459\n",
      "Time to compute test accuracy: 0:00:00.012601\n",
      "\n",
      "\n",
      "\n",
      "\n",
      "SK: Training time: 0:00:00.407738\n",
      "Train accuracy: 1.0\n",
      "SK: Time to compute train accuracy: 0:00:00.009467\n",
      "Test accuracy: 0.9947822141560798\n",
      "SK: Time to compute test accuracy: 0:00:00.008461\n"
     ]
    }
   ],
   "source": [
    "idx = np.logical_or(Y == 0, Y == 1)\n",
    "\n",
    "X = X[idx]\n",
    "Y = Y[idx]\n",
    "\n",
    "# split the data\n",
    "Ntrain = len(Y) // 2\n",
    "Xtrain, Ytrain = X[:Ntrain], Y[:Ntrain]\n",
    "Xtest, Ytest = X[Ntrain:], Y[Ntrain:]\n",
    "\n",
    "model = DecisionTree()\n",
    "# model = DecisionTree(max_depth=7)\n",
    "t0 = datetime.now()\n",
    "model.fit(Xtrain, Ytrain)\n",
    "print(\"Training time:\", (datetime.now() - t0))\n",
    "\n",
    "t0 = datetime.now()\n",
    "print(\"Train accuracy:\", model.score(Xtrain, Ytrain))\n",
    "print(\"Time to compute train accuracy:\", (datetime.now() - t0))\n",
    "\n",
    "t0 = datetime.now()\n",
    "print(\"Test accuracy:\", model.score(Xtest, Ytest))\n",
    "print(\"Time to compute test accuracy:\", (datetime.now() - t0))\n",
    "print(\"\\n\\n\\n\")\n",
    "\n",
    "# test SKLearn\n",
    "from sklearn.tree import DecisionTreeClassifier\n",
    "model = DecisionTreeClassifier()\n",
    "t0 = datetime.now()\n",
    "model.fit(Xtrain, Ytrain)\n",
    "print(\"SK: Training time:\", (datetime.now() - t0))\n",
    "\n",
    "t0 = datetime.now()\n",
    "print(\"Train accuracy:\", model.score(Xtrain, Ytrain))\n",
    "print(\"SK: Time to compute train accuracy:\", (datetime.now() - t0))\n",
    "\n",
    "t0 = datetime.now()\n",
    "print(\"Test accuracy:\", model.score(Xtest, Ytest))\n",
    "print(\"SK: Time to compute test accuracy:\", (datetime.now() - t0))"
   ]
  }
 ],
 "metadata": {
  "kernelspec": {
   "display_name": "twitter",
   "language": "python",
   "name": "twitter"
  },
  "language_info": {
   "codemirror_mode": {
    "name": "ipython",
    "version": 3
   },
   "file_extension": ".py",
   "mimetype": "text/x-python",
   "name": "python",
   "nbconvert_exporter": "python",
   "pygments_lexer": "ipython3",
   "version": "3.8.3"
  }
 },
 "nbformat": 4,
 "nbformat_minor": 2
}
